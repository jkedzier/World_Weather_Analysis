{
 "cells": [
  {
   "cell_type": "code",
   "execution_count": 1,
   "metadata": {},
   "outputs": [],
   "source": [
    "# Import the dependencies.\n",
    "import pandas as pd\n",
    "import gmaps\n",
    "import requests\n",
    "import gmaps.datasets\n",
    "# Import the API key.\n",
    "from config import g_key\n",
    "\n",
    "# Configure gmaps to use your Google API key.\n",
    "gmaps.configure(api_key=g_key)\n",
    "\n",
    "import ipywidgets as widgets\n",
    "import geopy"
   ]
  },
  {
   "cell_type": "code",
   "execution_count": 2,
   "metadata": {},
   "outputs": [],
   "source": [
    "# Store the Challenge CSV you saved created in part one into a DataFrame.\n",
    "hotel_df = pd.read_csv(\"weather_data/WeatherPy_vacation.csv\")\n",
    "\n",
    "#Create Infobox\n",
    "info_box_template = \"\"\"\n",
    "<dl>\n",
    "<dt>Hotel Name</dt><dd>{Hotel Name}</dd>\n",
    "<dt>City</dt><dd>{City}</dd>\n",
    "<dt>Country</dt><dd>{Country}</dd>\n",
    "<dt>Current Weather</dt><dd>{description} and {Max Temp}°F</dd>\n",
    "</dl>\n",
    "\"\"\"\n",
    "\n",
    "hotel_info = [info_box_template.format(**row) for index, row in hotel_df.iterrows()]"
   ]
  },
  {
   "cell_type": "code",
   "execution_count": 31,
   "metadata": {},
   "outputs": [
    {
     "data": {
      "application/vnd.jupyter.widget-view+json": {
       "model_id": "0d5352eb02284298919c53b2477ebe68",
       "version_major": 2,
       "version_minor": 0
      },
      "text/plain": [
       "Figure(layout=FigureLayout(height='420px'))"
      ]
     },
     "metadata": {},
     "output_type": "display_data"
    }
   ],
   "source": [
    "#Create Map\n",
    "locations = hotel_df[[\"Lat\", \"Lng\"]]\n",
    "max_temp = hotel_df[\"Max Temp\"]\n",
    "fig = gmaps.figure(center=(30.0, 31.0), zoom_level=1.5)\n",
    "heat_layer = gmaps.heatmap_layer(locations, weights=max_temp,dissipating=False,\n",
    "             max_intensity=300, point_radius=4)\n",
    "marker_layer = gmaps.marker_layer(locations, info_box_content=hotel_info)\n",
    "#fig.add_layer(heat_layer)\n",
    "fig.add_layer(marker_layer)\n",
    "\n",
    "# Call the figure to plot the data.\n",
    "fig"
   ]
  },
  {
   "cell_type": "code",
   "execution_count": 32,
   "metadata": {},
   "outputs": [
    {
     "name": "stdout",
     "output_type": "stream",
     "text": [
      "What is your start city? Antofagasta\n",
      "What is your destination city? Lebu\n",
      "What is your first stop? Neuquen\n",
      "What is your second stop? Rawson\n"
     ]
    }
   ],
   "source": [
    "city1=input(\"What is your start city? \")\n",
    "city2=input(\"What is your destination city? \")\n",
    "city3=input(\"What is your first stop? \")\n",
    "city4=input(\"What is your second stop? \")"
   ]
  },
  {
   "cell_type": "code",
   "execution_count": 35,
   "metadata": {},
   "outputs": [
    {
     "data": {
      "text/plain": [
       "['\\n<dl>\\n<dt>Hotel Name</dt><dd>Hotel Terrado Suites Antofagasta</dd>\\n<dt>City</dt><dd>Antofagasta</dd>\\n<dt>Country</dt><dd>CL</dd>\\n<dt>Current Weather</dt><dd>scattered clouds and 66.2°F</dd>\\n</dl>\\n',\n",
       " '\\n<dl>\\n<dt>Hotel Name</dt><dd>Hotel Punta León</dd>\\n<dt>City</dt><dd>Rawson</dd>\\n<dt>Country</dt><dd>AR</dd>\\n<dt>Current Weather</dt><dd>overcast clouds and 62.56°F</dd>\\n</dl>\\n',\n",
       " '\\n<dl>\\n<dt>Hotel Name</dt><dd>Hotel del Comahue</dd>\\n<dt>City</dt><dd>Neuquen</dd>\\n<dt>Country</dt><dd>AR</dd>\\n<dt>Current Weather</dt><dd>broken clouds and 69.8°F</dd>\\n</dl>\\n',\n",
       " '\\n<dl>\\n<dt>Hotel Name</dt><dd>Hostal Las Lilas</dd>\\n<dt>City</dt><dd>Lebu</dd>\\n<dt>Country</dt><dd>CL</dd>\\n<dt>Current Weather</dt><dd>overcast clouds and 60.04°F</dd>\\n</dl>\\n']"
      ]
     },
     "execution_count": 35,
     "metadata": {},
     "output_type": "execute_result"
    }
   ],
   "source": [
    "city1_df=hotel_df.loc[(hotel_df[\"City\"] ==city1)]\n",
    "city2_df=hotel_df.loc[(hotel_df[\"City\"] ==city2)]\n",
    "city3_df=hotel_df.loc[(hotel_df[\"City\"] ==city3)]\n",
    "city4_df=hotel_df.loc[(hotel_df[\"City\"] ==city4)]\n",
    "\n",
    "city_all_df=hotel_df.loc[((hotel_df[\"City\"] ==city1) | (hotel_df[\"City\"] == city2) | (hotel_df[\"City\"] == city3) | (hotel_df[\"City\"] == city4))]\n",
    "\n",
    "#Create Infobox\n",
    "direction_box_template = \"\"\"\n",
    "<dl>\n",
    "<dt>Hotel Name</dt><dd>{Hotel Name}</dd>\n",
    "<dt>City</dt><dd>{City}</dd>\n",
    "<dt>Country</dt><dd>{Country}</dd>\n",
    "<dt>Current Weather</dt><dd>{description} and {Max Temp}°F</dd>\n",
    "</dl>\n",
    "\"\"\"\n",
    "\n",
    "direction_info = [direction_box_template.format(**row) for index, row in city_all_df.iterrows()]\n",
    "direction_info"
   ]
  },
  {
   "cell_type": "code",
   "execution_count": 45,
   "metadata": {},
   "outputs": [
    {
     "data": {
      "text/html": [
       "<div>\n",
       "<style scoped>\n",
       "    .dataframe tbody tr th:only-of-type {\n",
       "        vertical-align: middle;\n",
       "    }\n",
       "\n",
       "    .dataframe tbody tr th {\n",
       "        vertical-align: top;\n",
       "    }\n",
       "\n",
       "    .dataframe thead th {\n",
       "        text-align: right;\n",
       "    }\n",
       "</style>\n",
       "<table border=\"1\" class=\"dataframe\">\n",
       "  <thead>\n",
       "    <tr style=\"text-align: right;\">\n",
       "      <th></th>\n",
       "      <th>Lat</th>\n",
       "      <th>Lng</th>\n",
       "    </tr>\n",
       "  </thead>\n",
       "  <tbody>\n",
       "    <tr>\n",
       "      <th>26</th>\n",
       "      <td>-23.65</td>\n",
       "      <td>-70.40</td>\n",
       "    </tr>\n",
       "    <tr>\n",
       "      <th>29</th>\n",
       "      <td>-43.30</td>\n",
       "      <td>-65.10</td>\n",
       "    </tr>\n",
       "    <tr>\n",
       "      <th>47</th>\n",
       "      <td>-38.95</td>\n",
       "      <td>-68.06</td>\n",
       "    </tr>\n",
       "    <tr>\n",
       "      <th>58</th>\n",
       "      <td>-37.62</td>\n",
       "      <td>-73.65</td>\n",
       "    </tr>\n",
       "  </tbody>\n",
       "</table>\n",
       "</div>"
      ],
      "text/plain": [
       "      Lat    Lng\n",
       "26 -23.65 -70.40\n",
       "29 -43.30 -65.10\n",
       "47 -38.95 -68.06\n",
       "58 -37.62 -73.65"
      ]
     },
     "execution_count": 45,
     "metadata": {},
     "output_type": "execute_result"
    }
   ],
   "source": [
    "dir_locations = city_all_df[[\"Lat\", \"Lng\"]]\n",
    "dir_locations"
   ]
  },
  {
   "cell_type": "code",
   "execution_count": 46,
   "metadata": {
    "scrolled": true
   },
   "outputs": [
    {
     "data": {
      "application/vnd.jupyter.widget-view+json": {
       "model_id": "077df5591a994fc8984e8a92b45bb177",
       "version_major": 2,
       "version_minor": 0
      },
      "text/plain": [
       "Figure(layout=FigureLayout(height='420px'))"
      ]
     },
     "metadata": {},
     "output_type": "display_data"
    }
   ],
   "source": [
    "# Latitude-longitude pairs\n",
    "city1_loc=(city1_df['Lat'].max(), city1_df['Lng'].max())\n",
    "city2_loc=(city2_df['Lat'].max(), city2_df['Lng'].max())\n",
    "city3_loc=(city3_df['Lat'].max(), city3_df['Lng'].max())\n",
    "city4_loc=(city4_df['Lat'].max(), city4_df['Lng'].max())\n",
    "dir_locations = city_all_df[[\"Lat\", \"Lng\"]]\n",
    "\n",
    "#city 1 Infobox\n",
    "#Create Infobox\n",
    "info_box_city1 = \"\"\"\n",
    "<dl>\n",
    "<dt>Hotel Name</dt><dd>{Hotel Name}</dd>\n",
    "<dt>City</dt><dd>{City}</dd>\n",
    "<dt>Country</dt><dd>{Country}</dd>\n",
    "<dt>Current Weather</dt><dd>{description} and {Max Temp}°F</dd>\n",
    "</dl>\n",
    "\"\"\"\n",
    "\n",
    "hotel_info = [info_box_template.format(**row) for index, row in hotel_df.iterrows()]\n",
    "\n",
    "fig = gmaps.figure()\n",
    "directions = gmaps.directions_layer(city1_loc, city2_loc, waypoints=[city3_loc, city4_loc], travel_mode='DRIVING')\n",
    "dir_marker_layer = gmaps.marker_layer(dir_locations, info_box_content=direction_info)\n",
    "fig.add_layer(dir_marker_layer)\n",
    "fig.add_layer(directions)\n",
    "fig"
   ]
  },
  {
   "cell_type": "code",
   "execution_count": 47,
   "metadata": {},
   "outputs": [
    {
     "data": {
      "application/vnd.jupyter.widget-view+json": {
       "model_id": "9cf0700420fc4a689400f42b3d1b7705",
       "version_major": 2,
       "version_minor": 0
      },
      "text/plain": [
       "Figure(layout=FigureLayout(height='420px'))"
      ]
     },
     "metadata": {},
     "output_type": "display_data"
    }
   ],
   "source": [
    "fig = gmaps.figure()\n",
    "dir_marker_layer = gmaps.marker_layer(dir_locations, info_box_content=direction_info)\n",
    "fig.add_layer(dir_marker_layer)\n",
    "fig"
   ]
  },
  {
   "cell_type": "code",
   "execution_count": null,
   "metadata": {},
   "outputs": [],
   "source": []
  },
  {
   "cell_type": "code",
   "execution_count": null,
   "metadata": {},
   "outputs": [],
   "source": []
  }
 ],
 "metadata": {
  "kernelspec": {
   "display_name": "PythonData",
   "language": "python",
   "name": "pythondata"
  },
  "language_info": {
   "codemirror_mode": {
    "name": "ipython",
    "version": 3
   },
   "file_extension": ".py",
   "mimetype": "text/x-python",
   "name": "python",
   "nbconvert_exporter": "python",
   "pygments_lexer": "ipython3",
   "version": "3.7.7"
  }
 },
 "nbformat": 4,
 "nbformat_minor": 4
}
